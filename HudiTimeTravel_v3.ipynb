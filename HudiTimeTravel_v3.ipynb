{
 "cells": [
  {
   "cell_type": "markdown",
   "id": "4edd7973-3c88-4d92-8b2f-c69e8282c1ee",
   "metadata": {
    "tags": []
   },
   "source": [
    "# Apache Hudi Query Tests\n",
    "\n",
    "Author: Gary Stafford\n",
    "\n",
    "Date: 2022-12-08\n",
    "\n",
    "Version matrix:\n",
    "- EMR 6.8 - hudi-spark: 0.11.1-amzn-0, spark-client: 3.3.0-amzn-0\n",
    "- EMR 6.9 - hudi-spark: 0.12.1-amzn-0, spark-client: 3.3.0-amzn-1"
   ]
  },
  {
   "cell_type": "code",
   "execution_count": 4,
   "id": "f5c43dd5-b102-48e2-b707-e70909dde245",
   "metadata": {
    "execution": {
     "iopub.execute_input": "2022-12-16T13:47:36.166147Z",
     "iopub.status.busy": "2022-12-16T13:47:36.165843Z",
     "iopub.status.idle": "2022-12-16T13:48:27.025173Z",
     "shell.execute_reply": "2022-12-16T13:48:27.024495Z",
     "shell.execute_reply.started": "2022-12-16T13:47:36.166123Z"
    },
    "tags": []
   },
   "outputs": [
    {
     "name": "stdout",
     "output_type": "stream",
     "text": [
      "Starting Spark application\n"
     ]
    },
    {
     "data": {
      "text/html": [
       "<table>\n",
       "<tr><th>ID</th><th>YARN Application ID</th><th>Kind</th><th>State</th><th>Spark UI</th><th>Driver log</th><th>User</th><th>Current session?</th></tr><tr><td>13</td><td>application_1670889798990_0015</td><td>pyspark</td><td>idle</td><td><a target=\"_blank\" href=\"http://ip-10-192-10-83.ec2.internal:20888/proxy/application_1670889798990_0015/\" class=\"emr-proxy-link\" emr-resource=\"j-3O44MRUI0Z5QD\n",
       "\" application-id=\"application_1670889798990_0015\">Link</a></td><td><a target=\"_blank\" href=\"http://ip-10-192-10-236.ec2.internal:8042/node/containerlogs/container_1670889798990_0015_01_000001/livy\" >Link</a></td><td>None</td><td>✔</td></tr></table>"
      ],
      "text/plain": [
       "<IPython.core.display.HTML object>"
      ]
     },
     "metadata": {},
     "output_type": "display_data"
    },
    {
     "data": {
      "application/vnd.jupyter.widget-view+json": {
       "model_id": "",
       "version_major": 2,
       "version_minor": 0
      },
      "text/plain": [
       "FloatProgress(value=0.0, bar_style='info', description='Progress:', layout=Layout(height='25px', width='50%'),…"
      ]
     },
     "metadata": {},
     "output_type": "display_data"
    },
    {
     "name": "stdout",
     "output_type": "stream",
     "text": [
      "SparkSession available as 'spark'.\n"
     ]
    },
    {
     "data": {
      "text/html": [
       "Current session configs: <tt>{'conf': {'spark.jars': 'hdfs:///apps/hudi/lib/hudi-spark-bundle.jar,hdfs:///apps/hudi/lib/spark-avro.jar', 'spark.serializer': 'org.apache.spark.serializer.KryoSerializer', 'spark.hadoop.hive.metastore.client.factory.class': 'com.amazonaws.glue.catalog.metastore.AWSGlueDataCatalogHiveClientFactory', 'spark.sql.catalog.spark_catalog': 'org.apache.spark.sql.hudi.catalog.HoodieCatalog', 'spark.sql.extensions': 'org.apache.spark.sql.hudi.HoodieSparkSessionExtension'}, 'proxyUser': 'assumed-role_AWSReservedSSO_AdministratorAccess_a3e1b00336d11e27_GaryStaffordAdminPersonal', 'kind': 'pyspark'}</tt><br>"
      ],
      "text/plain": [
       "<IPython.core.display.HTML object>"
      ]
     },
     "metadata": {},
     "output_type": "display_data"
    },
    {
     "data": {
      "text/html": [
       "<table>\n",
       "<tr><th>ID</th><th>YARN Application ID</th><th>Kind</th><th>State</th><th>Spark UI</th><th>Driver log</th><th>User</th><th>Current session?</th></tr><tr><td>13</td><td>application_1670889798990_0015</td><td>pyspark</td><td>idle</td><td><a target=\"_blank\" href=\"http://ip-10-192-10-83.ec2.internal:20888/proxy/application_1670889798990_0015/\" class=\"emr-proxy-link\" emr-resource=\"j-3O44MRUI0Z5QD\n",
       "\" application-id=\"application_1670889798990_0015\">Link</a></td><td><a target=\"_blank\" href=\"http://ip-10-192-10-236.ec2.internal:8042/node/containerlogs/container_1670889798990_0015_01_000001/livy\" >Link</a></td><td>None</td><td>✔</td></tr></table>"
      ],
      "text/plain": [
       "<IPython.core.display.HTML object>"
      ]
     },
     "metadata": {},
     "output_type": "display_data"
    }
   ],
   "source": [
    "%%configure -f\n",
    "\n",
    "{\n",
    "    \"conf\": {\n",
    "        \"spark.jars\": \"hdfs:///apps/hudi/lib/hudi-spark-bundle.jar,hdfs:///apps/hudi/lib/spark-avro.jar\",\n",
    "        \"spark.serializer\": \"org.apache.spark.serializer.KryoSerializer\",\n",
    "        \"spark.hadoop.hive.metastore.client.factory.class\": \"com.amazonaws.glue.catalog.metastore.AWSGlueDataCatalogHiveClientFactory\",\n",
    "        \"spark.sql.catalog.spark_catalog\": \"org.apache.spark.sql.hudi.catalog.HoodieCatalog\",\n",
    "        \"spark.sql.extensions\": \"org.apache.spark.sql.hudi.HoodieSparkSessionExtension\"\n",
    "    }\n",
    "}"
   ]
  },
  {
   "cell_type": "code",
   "execution_count": 5,
   "id": "dfaae400-5d9a-4b0d-bdff-3789a46d1990",
   "metadata": {
    "execution": {
     "iopub.execute_input": "2022-12-16T13:48:27.026464Z",
     "iopub.status.busy": "2022-12-16T13:48:27.026248Z",
     "iopub.status.idle": "2022-12-16T13:48:27.076849Z",
     "shell.execute_reply": "2022-12-16T13:48:27.076050Z",
     "shell.execute_reply.started": "2022-12-16T13:48:27.026443Z"
    },
    "tags": []
   },
   "outputs": [
    {
     "data": {
      "application/vnd.jupyter.widget-view+json": {
       "model_id": "71dec89572a04ea38d1f193b2d01b22c",
       "version_major": 2,
       "version_minor": 0
      },
      "text/plain": [
       "VBox()"
      ]
     },
     "metadata": {},
     "output_type": "display_data"
    },
    {
     "data": {
      "application/vnd.jupyter.widget-view+json": {
       "model_id": "",
       "version_major": 2,
       "version_minor": 0
      },
      "text/plain": [
       "FloatProgress(value=0.0, bar_style='info', description='Progress:', layout=Layout(height='25px', width='50%'),…"
      ]
     },
     "metadata": {},
     "output_type": "display_data"
    }
   ],
   "source": [
    "from pyspark.sql import SparkSession\n",
    "\n",
    "spark = SparkSession \\\n",
    "    .builder \\\n",
    "    .enableHiveSupport() \\\n",
    "    .getOrCreate()"
   ]
  },
  {
   "cell_type": "code",
   "execution_count": 6,
   "id": "3d335cbb-8b1b-4639-bbb5-62f0bc371015",
   "metadata": {
    "execution": {
     "iopub.execute_input": "2022-12-16T13:48:27.078486Z",
     "iopub.status.busy": "2022-12-16T13:48:27.078270Z",
     "iopub.status.idle": "2022-12-16T13:48:27.149991Z",
     "shell.execute_reply": "2022-12-16T13:48:27.149339Z",
     "shell.execute_reply.started": "2022-12-16T13:48:27.078465Z"
    },
    "tags": []
   },
   "outputs": [
    {
     "data": {
      "application/vnd.jupyter.widget-view+json": {
       "model_id": "e4e6a2fa87624d00ad41d15bb565efc0",
       "version_major": 2,
       "version_minor": 0
      },
      "text/plain": [
       "VBox()"
      ]
     },
     "metadata": {},
     "output_type": "display_data"
    },
    {
     "data": {
      "application/vnd.jupyter.widget-view+json": {
       "model_id": "",
       "version_major": 2,
       "version_minor": 0
      },
      "text/plain": [
       "FloatProgress(value=0.0, bar_style='info', description='Progress:', layout=Layout(height='25px', width='50%'),…"
      ]
     },
     "metadata": {},
     "output_type": "display_data"
    }
   ],
   "source": [
    "base_path = \"s3://open-data-lake-demo-us-east-1/emr_hudi_glue\""
   ]
  },
  {
   "cell_type": "code",
   "execution_count": 7,
   "id": "29f37935-e8ba-4b02-8f65-72678d49096d",
   "metadata": {
    "execution": {
     "iopub.execute_input": "2022-12-16T13:48:27.151220Z",
     "iopub.status.busy": "2022-12-16T13:48:27.151000Z",
     "iopub.status.idle": "2022-12-16T13:48:27.206683Z",
     "shell.execute_reply": "2022-12-16T13:48:27.205948Z",
     "shell.execute_reply.started": "2022-12-16T13:48:27.151197Z"
    },
    "tags": []
   },
   "outputs": [
    {
     "data": {
      "application/vnd.jupyter.widget-view+json": {
       "model_id": "f229da0bcc574abc8753f2353abcd05c",
       "version_major": 2,
       "version_minor": 0
      },
      "text/plain": [
       "VBox()"
      ]
     },
     "metadata": {},
     "output_type": "display_data"
    },
    {
     "data": {
      "application/vnd.jupyter.widget-view+json": {
       "model_id": "",
       "version_major": 2,
       "version_minor": 0
      },
      "text/plain": [
       "FloatProgress(value=0.0, bar_style='info', description='Progress:', layout=Layout(height='25px', width='50%'),…"
      ]
     },
     "metadata": {},
     "output_type": "display_data"
    }
   ],
   "source": [
    "data_specific_options = {\n",
    "    \"hoodie.datasource.hive_sync.database\": \"emr_demo\",\n",
    "    \"hoodie.datasource.hive_sync.partition_fields\": \"creation_date\",\n",
    "    \"hoodie.datasource.hive_sync.table\": \"emr_hudi_glue\",\n",
    "    \"hoodie.datasource.write.partitionpath.field\": \"creation_date\",\n",
    "    \"hoodie.datasource.write.precombine.field\": \"last_update_time\",\n",
    "    \"hoodie.datasource.write.recordkey.field\": \"id\",\n",
    "    \"hoodie.table.name\": \"emr_hudi_glue\",\n",
    "}\n",
    "\n",
    "hudi_write_options = {\n",
    "    \"hoodie.bloom.index.filter.type\": \"DYNAMIC_V0\",\n",
    "    \"hoodie.bloom.index.update.partition.path\": \"false\",\n",
    "    \"hoodie.compact.inline.max.delta.commits\": 1,\n",
    "    \"hoodie.compact.inline.trigger.strategy\": \"NUM_COMMITS\",\n",
    "    \"hoodie.datasource.hive_sync.assume_date_partitioning\": \"false\",\n",
    "    \"hoodie.datasource.compaction.async.enable\": \"false\",\n",
    "    \"hoodie.datasource.hive_sync.enable\": \"true\",\n",
    "    \"hoodie.datasource.hive_sync.mode\": \"hms\",\n",
    "    \"hoodie.datasource.hive_sync.partition_extractor_class\": \"org.apache.hudi.hive.MultiPartKeysValueExtractor\",\n",
    "    \"hoodie.datasource.hive_sync.support_timestamp\": \"true\",\n",
    "    \"hoodie.datasource.hive_sync.use_jdbc\": \"false\",\n",
    "    \"hoodie.datasource.write.drop.partition.columns\": \"true\",\n",
    "    \"hoodie.datasource.write.hive_style_partitioning\": \"true\",\n",
    "    \"hoodie.datasource.write.keygenerator.class\": \"org.apache.hudi.keygen.ComplexKeyGenerator\",\n",
    "    \"hoodie.datasource.write.table.type\": \"COPY_ON_WRITE\",\n",
    "    \"hoodie.index.type\": \"GLOBAL_BLOOM\",\n",
    "    \"hoodie.parquet.small.file.limit\": 1024 * 1024 * 128,\n",
    "    \"hoodie.upsert.shuffle.parallelism\": 2,\n",
    "}"
   ]
  },
  {
   "cell_type": "code",
   "execution_count": 8,
   "id": "c371f070-3c87-4e6e-8d96-98a902e1703e",
   "metadata": {
    "execution": {
     "iopub.execute_input": "2022-12-16T13:48:27.208236Z",
     "iopub.status.busy": "2022-12-16T13:48:27.207890Z",
     "iopub.status.idle": "2022-12-16T13:49:08.625580Z",
     "shell.execute_reply": "2022-12-16T13:49:08.624917Z",
     "shell.execute_reply.started": "2022-12-16T13:48:27.208202Z"
    },
    "tags": []
   },
   "outputs": [
    {
     "data": {
      "application/vnd.jupyter.widget-view+json": {
       "model_id": "1386d9f947e54410980c94d71f23617b",
       "version_major": 2,
       "version_minor": 0
      },
      "text/plain": [
       "VBox()"
      ]
     },
     "metadata": {},
     "output_type": "display_data"
    },
    {
     "data": {
      "application/vnd.jupyter.widget-view+json": {
       "model_id": "",
       "version_major": 2,
       "version_minor": 0
      },
      "text/plain": [
       "FloatProgress(value=0.0, bar_style='info', description='Progress:', layout=Layout(height='25px', width='50%'),…"
      ]
     },
     "metadata": {},
     "output_type": "display_data"
    }
   ],
   "source": [
    "# Insert a first record\n",
    "input_df = spark.createDataFrame(\n",
    "    [\n",
    "        (\"100\", \"Carlos\", \"2022-11-28\", \"2022-11-29T13:50:39.340399Z\"),\n",
    "    ],\n",
    "    [\"id\", \"user\", \"creation_date\", \"last_update_time\"],\n",
    ")\n",
    "\n",
    "# Write a DataFrame as a Hudi dataset\n",
    "input_df.write \\\n",
    "    .format(\"org.apache.hudi\") \\\n",
    "    .options(**{**data_specific_options, **hudi_write_options}) \\\n",
    "    .option(\"hoodie.datasource.write.operation\", \"insert\") \\\n",
    "    .mode(\"append\") \\\n",
    "    .save(base_path)"
   ]
  },
  {
   "cell_type": "code",
   "execution_count": null,
   "id": "239590eb-cfd5-402c-84fd-a5e9bdaafeaf",
   "metadata": {
    "tags": []
   },
   "outputs": [],
   "source": [
    "# Insert a second record\n",
    "input_df = spark.createDataFrame(\n",
    "    [\n",
    "        (\"101\", \"Sri\", \"2022-11-29\", \"2022-12-01T12:14:58.597219Z\"),\n",
    "    ],\n",
    "    [\"id\", \"user\", \"creation_date\", \"last_update_time\"],\n",
    ")\n",
    "\n",
    "# Write a DataFrame as a Hudi dataset\n",
    "input_df.write \\\n",
    "    .format(\"org.apache.hudi\") \\\n",
    "    .options(**{**data_specific_options, **hudi_write_options}) \\\n",
    "    .option(\"hoodie.datasource.write.operation\", \"insert\") \\\n",
    "    .mode(\"append\") \\\n",
    "    .save(base_path)"
   ]
  },
  {
   "cell_type": "code",
   "execution_count": null,
   "id": "803f382e-c333-412d-b8a2-e89561c29a7d",
   "metadata": {
    "tags": []
   },
   "outputs": [],
   "source": [
    "%%sql\n",
    "select * from `emr_demo`.`emr_hudi_glue` order by _hoodie_commit_time;"
   ]
  },
  {
   "cell_type": "code",
   "execution_count": null,
   "id": "ff727010-f655-413f-91ae-08710ec2f0d1",
   "metadata": {
    "tags": []
   },
   "outputs": [],
   "source": [
    "# Update the both record\n",
    "input_df = spark.createDataFrame(\n",
    "    [\n",
    "        (\"100\", \"Carlos\", \"2022-11-28\", \"2022-11-29T13:50:39.340399Z\"),\n",
    "        (\"101\", \"Sri\", \"2022-11-29\", \"2022-12-01T12:14:58.597219Z\"),\n",
    "    ],\n",
    "    [\"id\", \"user\", \"creation_date\", \"last_update_time\"],\n",
    ")\n",
    "\n",
    "# Write a DataFrame as a Hudi dataset\n",
    "input_df.write \\\n",
    "    .format(\"org.apache.hudi\") \\\n",
    "    .options(**{**data_specific_options, **hudi_write_options}) \\\n",
    "    .option(\"hoodie.datasource.write.operation\", \"upsert\") \\\n",
    "    .mode(\"append\") \\\n",
    "    .save(base_path)"
   ]
  },
  {
   "cell_type": "code",
   "execution_count": null,
   "id": "d29e811f-599b-4370-bae9-86708dd0c695",
   "metadata": {
    "tags": []
   },
   "outputs": [],
   "source": [
    "%%sql\n",
    "select * from `emr_demo`.`emr_hudi_glue` order by _hoodie_commit_time;"
   ]
  },
  {
   "cell_type": "code",
   "execution_count": null,
   "id": "fbfd9682-e66c-4779-a7c3-57b9bd6b338d",
   "metadata": {
    "tags": []
   },
   "outputs": [],
   "source": [
    "# does not return correct records (returns latest snapshot)\n",
    "\n",
    "begin_time = 20221216000000000\n",
    "\n",
    "incremental_read_options = {\n",
    "    \"hoodie.datasource.query.type\": \"incremental\",\n",
    "    \"hoodie.datasource.read.begin.instanttime\": begin_time,\n",
    "}\n",
    "\n",
    "incremental_df = (\n",
    "    spark.read.format(\"org.apache.hudi\")\n",
    "    .options(**incremental_read_options)\n",
    "    .table(\"emr_demo.emr_hudi_glue\")\n",
    ")\n",
    "\n",
    "incremental_df.sort(\"_hoodie_commit_time\").show()"
   ]
  },
  {
   "cell_type": "code",
   "execution_count": null,
   "id": "d023662b-487c-483f-97a6-c6db19e73920",
   "metadata": {
    "tags": []
   },
   "outputs": [],
   "source": [
    "# does not return correct records (returns latest snapshot)\n",
    "\n",
    "begin_time = 20221216020114173\n",
    "end_time = 20221216020114174\n",
    "\n",
    "incremental_read_options = {\n",
    "    \"hoodie.datasource.query.type\": \"incremental\",\n",
    "    \"hoodie.datasource.read.begin.instanttime\": begin_time,\n",
    "    \"hoodie.datasource.read.end.instanttime\": end_time,\n",
    "}\n",
    "\n",
    "incremental_df = (\n",
    "    spark.read.format(\"org.apache.hudi\")\n",
    "    .options(**incremental_read_options)\n",
    "    .table(\"emr_demo.emr_hudi_glue\")\n",
    ")\n",
    "\n",
    "incremental_df.sort(\"_hoodie_commit_time\").show()"
   ]
  },
  {
   "cell_type": "code",
   "execution_count": null,
   "id": "122deb50-cb1a-4713-b2b3-50a2d4631064",
   "metadata": {
    "tags": []
   },
   "outputs": [],
   "source": [
    "# does not return correct records (returns latest snapshot)\n",
    "\n",
    "incremental_df = (\n",
    "    spark.read.format(\"org.apache.hudi\")\n",
    "    .option(\"as.of.instant\", 20221216000000000)\n",
    "    .table(\"emr_demo.emr_hudi_glue\")\n",
    ")\n",
    "\n",
    "incremental_df.sort(\"_hoodie_commit_time\").show()"
   ]
  },
  {
   "cell_type": "code",
   "execution_count": null,
   "id": "6ebaceb5-a6b9-4461-b554-f0d0566f5066",
   "metadata": {
    "tags": []
   },
   "outputs": [],
   "source": [
    "%%sql\n",
    "-- # throws error: java.lang.UnsupportedOperationException: Table emr_demo.emr_hudi_glue does not support time travel.\n",
    "select * from `emr_demo`.`emr_hudi_glue` timestamp as of 20221216020114174;"
   ]
  }
 ],
 "metadata": {
  "kernelspec": {
   "display_name": "PySpark",
   "language": "python",
   "name": "pysparkkernel"
  },
  "language_info": {
   "codemirror_mode": {
    "name": "python",
    "version": 3
   },
   "file_extension": ".py",
   "mimetype": "text/x-python",
   "name": "pyspark",
   "pygments_lexer": "python3"
  }
 },
 "nbformat": 4,
 "nbformat_minor": 5
}
